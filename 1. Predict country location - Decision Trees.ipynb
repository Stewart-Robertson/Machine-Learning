{
 "cells": [
  {
   "cell_type": "markdown",
   "metadata": {
    "toc": true
   },
   "source": [
    "<h1>Table of Contents<span class=\"tocSkip\"></span></h1>\n",
    "<div class=\"toc\"><ul class=\"toc-item\"><li><span><a href=\"#Predict-country-location-from-flag-attributes\" data-toc-modified-id=\"Predict-country-location-from-flag-attributes-1\"><span class=\"toc-item-num\">1&nbsp;&nbsp;</span>Predict country location from flag attributes</a></span></li><li><span><a href=\"#The-data\" data-toc-modified-id=\"The-data-2\"><span class=\"toc-item-num\">2&nbsp;&nbsp;</span>The data</a></span></li><li><span><a href=\"#Creating-the-data-and-labels\" data-toc-modified-id=\"Creating-the-data-and-labels-3\"><span class=\"toc-item-num\">3&nbsp;&nbsp;</span>Creating the data and labels</a></span><ul class=\"toc-item\"><li><span><a href=\"#Splitting-the-data-into-training-and-test-sets\" data-toc-modified-id=\"Splitting-the-data-into-training-and-test-sets-3.1\"><span class=\"toc-item-num\">3.1&nbsp;&nbsp;</span>Splitting the data into training and test sets</a></span></li></ul></li><li><span><a href=\"#Training-and-scoring-the-model\" data-toc-modified-id=\"Training-and-scoring-the-model-4\"><span class=\"toc-item-num\">4&nbsp;&nbsp;</span>Training and scoring the model</a></span><ul class=\"toc-item\"><li><span><a href=\"#Scoring-the-model\" data-toc-modified-id=\"Scoring-the-model-4.1\"><span class=\"toc-item-num\">4.1&nbsp;&nbsp;</span>Scoring the model</a></span></li><li><span><a href=\"#Feature-importance\" data-toc-modified-id=\"Feature-importance-4.2\"><span class=\"toc-item-num\">4.2&nbsp;&nbsp;</span>Feature importance</a></span></li></ul></li><li><span><a href=\"#Plotting-training-and-test-scores-for-each-depth\" data-toc-modified-id=\"Plotting-training-and-test-scores-for-each-depth-5\"><span class=\"toc-item-num\">5&nbsp;&nbsp;</span>Plotting training and test scores for each depth</a></span><ul class=\"toc-item\"><li><span><a href=\"#Result\" data-toc-modified-id=\"Result-5.1\"><span class=\"toc-item-num\">5.1&nbsp;&nbsp;</span>Result</a></span></li></ul></li><li><span><a href=\"#Using-different-features\" data-toc-modified-id=\"Using-different-features-6\"><span class=\"toc-item-num\">6&nbsp;&nbsp;</span>Using different features</a></span><ul class=\"toc-item\"><li><span><a href=\"#Deriving-custom-features\" data-toc-modified-id=\"Deriving-custom-features-6.1\"><span class=\"toc-item-num\">6.1&nbsp;&nbsp;</span>Deriving custom features</a></span></li><li><span><a href=\"#Result\" data-toc-modified-id=\"Result-6.2\"><span class=\"toc-item-num\">6.2&nbsp;&nbsp;</span>Result</a></span></li></ul></li><li><span><a href=\"#Final-iteration\" data-toc-modified-id=\"Final-iteration-7\"><span class=\"toc-item-num\">7&nbsp;&nbsp;</span>Final iteration</a></span><ul class=\"toc-item\"><li><span><a href=\"#Choosing-new-features\" data-toc-modified-id=\"Choosing-new-features-7.1\"><span class=\"toc-item-num\">7.1&nbsp;&nbsp;</span>Choosing new features</a></span><ul class=\"toc-item\"><li><span><a href=\"#Function-to-find-n-most-important-features\" data-toc-modified-id=\"Function-to-find-n-most-important-features-7.1.1\"><span class=\"toc-item-num\">7.1.1&nbsp;&nbsp;</span>Function to find n most important features</a></span></li></ul></li></ul></li><li><span><a href=\"#Final-results\" data-toc-modified-id=\"Final-results-8\"><span class=\"toc-item-num\">8&nbsp;&nbsp;</span>Final results</a></span></li></ul></div>"
   ]
  },
  {
   "cell_type": "code",
   "execution_count": 156,
   "metadata": {},
   "outputs": [],
   "source": [
    "import pandas as pd\n",
    "from sklearn.model_selection import train_test_split\n",
    "from sklearn.tree import DecisionTreeClassifier\n",
    "import matplotlib.pyplot as plt\n",
    "import seaborn as sns"
   ]
  },
  {
   "cell_type": "markdown",
   "metadata": {},
   "source": [
    "# Predict country location from flag attributes"
   ]
  },
  {
   "cell_type": "markdown",
   "metadata": {},
   "source": [
    "This project uses flag data from 194 countries across the world. There are 30 features for each flag, describing aspects of the design, country population, etc.\n",
    "\n",
    "The data is from UCI's machine learning repository.\n",
    "\n",
    "Each flag is also associated with a numerical landmass, ranging from 1-6. This specifies what continent the flag belongs to.\n",
    "\n",
    "The aim is to accurately predict which continent a flag comes from based on features of the flag.\n",
    "\n",
    "The algorithm used will be a Decision Tree Classifier. Classification accuracy for different depths of tree will be tested and the optimal depth will be found."
   ]
  },
  {
   "cell_type": "markdown",
   "metadata": {},
   "source": [
    "# The data"
   ]
  },
  {
   "cell_type": "code",
   "execution_count": 157,
   "metadata": {},
   "outputs": [],
   "source": [
    "flags = pd.read_csv('flags.csv', header = 0)"
   ]
  },
  {
   "cell_type": "code",
   "execution_count": 158,
   "metadata": {},
   "outputs": [
    {
     "data": {
      "text/html": [
       "<div>\n",
       "<style scoped>\n",
       "    .dataframe tbody tr th:only-of-type {\n",
       "        vertical-align: middle;\n",
       "    }\n",
       "\n",
       "    .dataframe tbody tr th {\n",
       "        vertical-align: top;\n",
       "    }\n",
       "\n",
       "    .dataframe thead th {\n",
       "        text-align: right;\n",
       "    }\n",
       "</style>\n",
       "<table border=\"1\" class=\"dataframe\">\n",
       "  <thead>\n",
       "    <tr style=\"text-align: right;\">\n",
       "      <th></th>\n",
       "      <th>Name</th>\n",
       "      <th>Landmass</th>\n",
       "      <th>Zone</th>\n",
       "      <th>Area</th>\n",
       "      <th>Population</th>\n",
       "      <th>Language</th>\n",
       "      <th>Religion</th>\n",
       "      <th>Bars</th>\n",
       "      <th>Stripes</th>\n",
       "      <th>Colors</th>\n",
       "      <th>...</th>\n",
       "      <th>Saltires</th>\n",
       "      <th>Quarters</th>\n",
       "      <th>Sunstars</th>\n",
       "      <th>Crescent</th>\n",
       "      <th>Triangle</th>\n",
       "      <th>Icon</th>\n",
       "      <th>Animate</th>\n",
       "      <th>Text</th>\n",
       "      <th>Topleft</th>\n",
       "      <th>Botright</th>\n",
       "    </tr>\n",
       "  </thead>\n",
       "  <tbody>\n",
       "    <tr>\n",
       "      <th>0</th>\n",
       "      <td>Afghanistan</td>\n",
       "      <td>5</td>\n",
       "      <td>1</td>\n",
       "      <td>648</td>\n",
       "      <td>16</td>\n",
       "      <td>10</td>\n",
       "      <td>2</td>\n",
       "      <td>0</td>\n",
       "      <td>3</td>\n",
       "      <td>5</td>\n",
       "      <td>...</td>\n",
       "      <td>0</td>\n",
       "      <td>0</td>\n",
       "      <td>1</td>\n",
       "      <td>0</td>\n",
       "      <td>0</td>\n",
       "      <td>1</td>\n",
       "      <td>0</td>\n",
       "      <td>0</td>\n",
       "      <td>black</td>\n",
       "      <td>green</td>\n",
       "    </tr>\n",
       "    <tr>\n",
       "      <th>1</th>\n",
       "      <td>Albania</td>\n",
       "      <td>3</td>\n",
       "      <td>1</td>\n",
       "      <td>29</td>\n",
       "      <td>3</td>\n",
       "      <td>6</td>\n",
       "      <td>6</td>\n",
       "      <td>0</td>\n",
       "      <td>0</td>\n",
       "      <td>3</td>\n",
       "      <td>...</td>\n",
       "      <td>0</td>\n",
       "      <td>0</td>\n",
       "      <td>1</td>\n",
       "      <td>0</td>\n",
       "      <td>0</td>\n",
       "      <td>0</td>\n",
       "      <td>1</td>\n",
       "      <td>0</td>\n",
       "      <td>red</td>\n",
       "      <td>red</td>\n",
       "    </tr>\n",
       "    <tr>\n",
       "      <th>2</th>\n",
       "      <td>Algeria</td>\n",
       "      <td>4</td>\n",
       "      <td>1</td>\n",
       "      <td>2388</td>\n",
       "      <td>20</td>\n",
       "      <td>8</td>\n",
       "      <td>2</td>\n",
       "      <td>2</td>\n",
       "      <td>0</td>\n",
       "      <td>3</td>\n",
       "      <td>...</td>\n",
       "      <td>0</td>\n",
       "      <td>0</td>\n",
       "      <td>1</td>\n",
       "      <td>1</td>\n",
       "      <td>0</td>\n",
       "      <td>0</td>\n",
       "      <td>0</td>\n",
       "      <td>0</td>\n",
       "      <td>green</td>\n",
       "      <td>white</td>\n",
       "    </tr>\n",
       "    <tr>\n",
       "      <th>3</th>\n",
       "      <td>American-Samoa</td>\n",
       "      <td>6</td>\n",
       "      <td>3</td>\n",
       "      <td>0</td>\n",
       "      <td>0</td>\n",
       "      <td>1</td>\n",
       "      <td>1</td>\n",
       "      <td>0</td>\n",
       "      <td>0</td>\n",
       "      <td>5</td>\n",
       "      <td>...</td>\n",
       "      <td>0</td>\n",
       "      <td>0</td>\n",
       "      <td>0</td>\n",
       "      <td>0</td>\n",
       "      <td>1</td>\n",
       "      <td>1</td>\n",
       "      <td>1</td>\n",
       "      <td>0</td>\n",
       "      <td>blue</td>\n",
       "      <td>red</td>\n",
       "    </tr>\n",
       "    <tr>\n",
       "      <th>4</th>\n",
       "      <td>Andorra</td>\n",
       "      <td>3</td>\n",
       "      <td>1</td>\n",
       "      <td>0</td>\n",
       "      <td>0</td>\n",
       "      <td>6</td>\n",
       "      <td>0</td>\n",
       "      <td>3</td>\n",
       "      <td>0</td>\n",
       "      <td>3</td>\n",
       "      <td>...</td>\n",
       "      <td>0</td>\n",
       "      <td>0</td>\n",
       "      <td>0</td>\n",
       "      <td>0</td>\n",
       "      <td>0</td>\n",
       "      <td>0</td>\n",
       "      <td>0</td>\n",
       "      <td>0</td>\n",
       "      <td>blue</td>\n",
       "      <td>red</td>\n",
       "    </tr>\n",
       "  </tbody>\n",
       "</table>\n",
       "<p>5 rows × 30 columns</p>\n",
       "</div>"
      ],
      "text/plain": [
       "             Name  Landmass  Zone  Area  Population  Language  Religion  Bars  \\\n",
       "0     Afghanistan         5     1   648          16        10         2     0   \n",
       "1         Albania         3     1    29           3         6         6     0   \n",
       "2         Algeria         4     1  2388          20         8         2     2   \n",
       "3  American-Samoa         6     3     0           0         1         1     0   \n",
       "4         Andorra         3     1     0           0         6         0     3   \n",
       "\n",
       "   Stripes  Colors  ...  Saltires  Quarters  Sunstars  Crescent  Triangle  \\\n",
       "0        3       5  ...         0         0         1         0         0   \n",
       "1        0       3  ...         0         0         1         0         0   \n",
       "2        0       3  ...         0         0         1         1         0   \n",
       "3        0       5  ...         0         0         0         0         1   \n",
       "4        0       3  ...         0         0         0         0         0   \n",
       "\n",
       "   Icon  Animate Text  Topleft  Botright  \n",
       "0     1        0    0    black     green  \n",
       "1     0        1    0      red       red  \n",
       "2     0        0    0    green     white  \n",
       "3     1        1    0     blue       red  \n",
       "4     0        0    0     blue       red  \n",
       "\n",
       "[5 rows x 30 columns]"
      ]
     },
     "execution_count": 158,
     "metadata": {},
     "output_type": "execute_result"
    }
   ],
   "source": [
    "flags.head()"
   ]
  },
  {
   "cell_type": "code",
   "execution_count": 159,
   "metadata": {},
   "outputs": [
    {
     "data": {
      "text/plain": [
       "194"
      ]
     },
     "execution_count": 159,
     "metadata": {},
     "output_type": "execute_result"
    }
   ],
   "source": [
    "# number of countries\n",
    "len(flags)"
   ]
  },
  {
   "cell_type": "code",
   "execution_count": 160,
   "metadata": {},
   "outputs": [
    {
     "data": {
      "text/plain": [
       "(Index(['Name', 'Landmass', 'Zone', 'Area', 'Population', 'Language',\n",
       "        'Religion', 'Bars', 'Stripes', 'Colors', 'Red', 'Green', 'Blue', 'Gold',\n",
       "        'White', 'Black', 'Orange', 'Mainhue', 'Circles', 'Crosses', 'Saltires',\n",
       "        'Quarters', 'Sunstars', 'Crescent', 'Triangle', 'Icon', 'Animate',\n",
       "        'Text', 'Topleft', 'Botright'],\n",
       "       dtype='object'),\n",
       " 30)"
      ]
     },
     "execution_count": 160,
     "metadata": {},
     "output_type": "execute_result"
    }
   ],
   "source": [
    "# the features and number of features\n",
    "flags.columns, len(flags.columns)"
   ]
  },
  {
   "cell_type": "code",
   "execution_count": 161,
   "metadata": {},
   "outputs": [
    {
     "data": {
      "text/plain": [
       "array([5, 3, 4, 6, 1, 2], dtype=int64)"
      ]
     },
     "execution_count": 161,
     "metadata": {},
     "output_type": "execute_result"
    }
   ],
   "source": [
    "# how many unique landmasses - one for every continent (except Antartica)\n",
    "flags.Landmass.unique()"
   ]
  },
  {
   "cell_type": "markdown",
   "metadata": {},
   "source": [
    "# Creating the data and labels"
   ]
  },
  {
   "cell_type": "code",
   "execution_count": 162,
   "metadata": {},
   "outputs": [],
   "source": [
    "# End goal is to use a decision tree to classify what Landmass a country is on\n",
    "\n",
    "# the target to be predicted is the landmass\n",
    "labels = flags['Landmass']\n",
    "\n",
    "# for now, choosing the following columns and test classification accuracy\n",
    "data = flags[[\"Red\", \"Green\", \"Blue\", \"Gold\", \"White\", \"Black\", \"Orange\",\n",
    "              \"Circles\",\"Crosses\",\"Saltires\",\"Quarters\",\"Sunstars\",\n",
    "              \"Crescent\",\"Triangle\"]]"
   ]
  },
  {
   "cell_type": "markdown",
   "metadata": {},
   "source": [
    "## Splitting the data into training and test sets"
   ]
  },
  {
   "cell_type": "code",
   "execution_count": 163,
   "metadata": {},
   "outputs": [],
   "source": [
    "train_data, test_data, train_labels, test_labels = train_test_split(data, labels, random_state = 1)"
   ]
  },
  {
   "cell_type": "markdown",
   "metadata": {},
   "source": [
    "# Training and scoring the model"
   ]
  },
  {
   "cell_type": "code",
   "execution_count": 164,
   "metadata": {},
   "outputs": [
    {
     "name": "stdout",
     "output_type": "stream",
     "text": [
      "Depth 1: 0.3469387755102041\n",
      "Depth 2: 0.3877551020408163\n",
      "Depth 3: 0.5102040816326531\n",
      "Depth 4: 0.5510204081632653\n",
      "Depth 5: 0.5510204081632653\n",
      "Depth 6: 0.5102040816326531\n",
      "Depth 7: 0.42857142857142855\n",
      "Depth 8: 0.4489795918367347\n",
      "Depth 9: 0.4489795918367347\n",
      "Depth 10: 0.4489795918367347\n",
      "Depth 11: 0.4489795918367347\n",
      "Depth 12: 0.4489795918367347\n",
      "Depth 13: 0.4489795918367347\n",
      "Depth 14: 0.4489795918367347\n",
      "Depth 15: 0.4489795918367347\n",
      "Depth 16: 0.4489795918367347\n",
      "Depth 17: 0.4489795918367347\n",
      "Depth 18: 0.4489795918367347\n",
      "Depth 19: 0.4489795918367347\n",
      "Depth 20: 0.4489795918367347\n"
     ]
    }
   ],
   "source": [
    "# try 20 different levels of tree\n",
    "tree_depth = range(1, 21)\n",
    "\n",
    "for i in tree_depth:\n",
    "    tree = DecisionTreeClassifier(max_depth = i, random_state=1)\n",
    "    tree.fit(train_data, train_labels)\n",
    "    print(\"Depth \" + str(i) + \":\", tree.score(test_data, test_labels))"
   ]
  },
  {
   "cell_type": "markdown",
   "metadata": {},
   "source": [
    "## Scoring the model"
   ]
  },
  {
   "cell_type": "code",
   "execution_count": 165,
   "metadata": {},
   "outputs": [],
   "source": [
    "# first scoring the model on the training set\n",
    "# also finding the feature importances when using all features\n",
    "scores = []\n",
    "for i in tree_depth:\n",
    "    tree = DecisionTreeClassifier(max_depth = i, random_state=1)\n",
    "    tree.fit(train_data, train_labels)\n",
    "    scores.append(tree.score(train_data, train_labels))\n",
    "    if i == np.max(tree_depth):\n",
    "        feat_importances = tree.feature_importances_"
   ]
  },
  {
   "cell_type": "code",
   "execution_count": 166,
   "metadata": {},
   "outputs": [
    {
     "data": {
      "text/plain": [
       "0.8482758620689655"
      ]
     },
     "execution_count": 166,
     "metadata": {},
     "output_type": "execute_result"
    }
   ],
   "source": [
    "first_tree_train_score = np.max(scores)\n",
    "first_tree_train_score"
   ]
  },
  {
   "cell_type": "code",
   "execution_count": 167,
   "metadata": {},
   "outputs": [],
   "source": [
    "# then scoring the model on the test set\n",
    "test_scores = []\n",
    "for i in tree_depth:\n",
    "    tree = DecisionTreeClassifier(max_depth = i, random_state=1)\n",
    "    tree.fit(train_data, train_labels)\n",
    "    test_scores.append(tree.score(test_data, test_labels))"
   ]
  },
  {
   "cell_type": "code",
   "execution_count": 168,
   "metadata": {},
   "outputs": [
    {
     "data": {
      "text/plain": [
       "0.5510204081632653"
      ]
     },
     "execution_count": 168,
     "metadata": {},
     "output_type": "execute_result"
    }
   ],
   "source": [
    "first_tree_test_score = np.max(test_scores)\n",
    "first_tree_test_score"
   ]
  },
  {
   "cell_type": "markdown",
   "metadata": {},
   "source": [
    "## Feature importance"
   ]
  },
  {
   "cell_type": "markdown",
   "metadata": {},
   "source": [
    "To get a sense of which features being used in the model are influencing the classifier the most, we can visualise the feature importances using a barplot."
   ]
  },
  {
   "cell_type": "code",
   "execution_count": 169,
   "metadata": {},
   "outputs": [
    {
     "data": {
      "text/plain": [
       "array([0.0663545 , 0.09376988, 0.0585681 , 0.1190839 , 0.07672397,\n",
       "       0.11416188, 0.05025047, 0.09608985, 0.04588962, 0.        ,\n",
       "       0.01844246, 0.1923143 , 0.00871893, 0.05963215])"
      ]
     },
     "execution_count": 169,
     "metadata": {},
     "output_type": "execute_result"
    }
   ],
   "source": [
    "feat_importances"
   ]
  },
  {
   "cell_type": "code",
   "execution_count": 170,
   "metadata": {},
   "outputs": [
    {
     "data": {
      "image/png": "[encoded data removed]",
      "text/plain": [
       "<Figure size 432x288 with 1 Axes>"
      ]
     },
     "metadata": {},
     "output_type": "display_data"
    }
   ],
   "source": [
    "sns.barplot(x=feat_importances, y=data.columns)\n",
    "plt.title('Barplot of relative feature importance for first tree')\n",
    "plt.xlabel('Relative importance')\n",
    "plt.show()"
   ]
  },
  {
   "cell_type": "markdown",
   "metadata": {},
   "source": [
    "# Plotting training and test scores for each depth"
   ]
  },
  {
   "cell_type": "code",
   "execution_count": 171,
   "metadata": {},
   "outputs": [
    {
     "data": {
      "image/png": "[encoded data removed]",
      "text/plain": [
       "<Figure size 1080x360 with 2 Axes>"
      ]
     },
     "metadata": {},
     "output_type": "display_data"
    }
   ],
   "source": [
    "sns.set_style('whitegrid')\n",
    "\n",
    "fig, axes = plt.subplots(2, 1, figsize=(15, 5))\n",
    "plt.suptitle('Model Accuracy', fontsize=14)\n",
    "\n",
    "ax1 = plt.subplot(1, 2, 1)\n",
    "ax1 = sns.lineplot(x=tree_depth, y=scores)\n",
    "plt.xlabel('Depth of Tree')\n",
    "plt.ylabel('Tree Score')\n",
    "plt.title('Tree Depth vs Classification Score - training set')\n",
    "\n",
    "ax2 = plt.subplot(1, 2, 2, sharey=ax1)\n",
    "ax2 = sns.lineplot(x=tree_depth, y=test_scores)\n",
    "plt.xlabel('Depth of Tree')\n",
    "plt.ylabel('Tree Score')\n",
    "plt.title('Tree Depth vs Classification Score - test_set')\n",
    "\n",
    "plt.show()"
   ]
  },
  {
   "cell_type": "markdown",
   "metadata": {},
   "source": [
    "## Result"
   ]
  },
  {
   "cell_type": "markdown",
   "metadata": {},
   "source": [
    "The training score keeps improving until around a depth of 10 and then plateaus, while the test set peaks at a depth of around 4 and then decreases. The model is overfitting with increasing depth, and the peak test accuracy is only around 55%.\n",
    "\n",
    "Overall, this model is not performing well. To attempt to improve model we can change the data to include other features.\n",
    "\n",
    "Two features that may help are `Topleft` and `Botright`. These should provide more definition for each flag and so could improve accuracy."
   ]
  },
  {
   "cell_type": "markdown",
   "metadata": {},
   "source": [
    "# Using different features"
   ]
  },
  {
   "cell_type": "code",
   "execution_count": 172,
   "metadata": {},
   "outputs": [
    {
     "data": {
      "text/plain": [
       "array(['black', 'red', 'green', 'blue', 'white', 'orange', 'gold'],\n",
       "      dtype=object)"
      ]
     },
     "execution_count": 172,
     "metadata": {},
     "output_type": "execute_result"
    }
   ],
   "source": [
    "flags['Topleft'].unique()"
   ]
  },
  {
   "cell_type": "code",
   "execution_count": 173,
   "metadata": {},
   "outputs": [
    {
     "data": {
      "text/plain": [
       "array(['green', 'red', 'white', 'black', 'blue', 'gold', 'orange',\n",
       "       'brown'], dtype=object)"
      ]
     },
     "execution_count": 173,
     "metadata": {},
     "output_type": "execute_result"
    }
   ],
   "source": [
    "flags['Botright'].unique()"
   ]
  },
  {
   "cell_type": "markdown",
   "metadata": {},
   "source": [
    "## Deriving custom features"
   ]
  },
  {
   "cell_type": "markdown",
   "metadata": {},
   "source": [
    "The `Topleft` and `Botright` columns have string values describing the colour in that region of the flag. In order to use them in the decision tree classifier, two new columns must be added that have integer values for each colour. The following will be applied:\n",
    "\n",
    "* black = 0\n",
    "* white = 1\n",
    "* red = 2\n",
    "* green = 3\n",
    "* blue = 4\n",
    "* gold = 5\n",
    "* orange = 6\n",
    "* brown = 7"
   ]
  },
  {
   "cell_type": "code",
   "execution_count": 174,
   "metadata": {},
   "outputs": [],
   "source": [
    "def colour_to_num(colour):\n",
    "    if colour == 'black':\n",
    "        return 0\n",
    "    if colour == 'white':\n",
    "        return 1\n",
    "    if colour == 'red':\n",
    "        return 2\n",
    "    if colour == 'green':\n",
    "        return 3\n",
    "    if colour == 'blue':\n",
    "        return 4\n",
    "    if colour == 'gold':\n",
    "        return 5\n",
    "    if colour == 'orange':\n",
    "        return 6\n",
    "    if colour == 'brown':\n",
    "        return 7"
   ]
  },
  {
   "cell_type": "code",
   "execution_count": 175,
   "metadata": {},
   "outputs": [],
   "source": [
    "flags['TopleftNum'] = flags['Topleft'].apply(colour_to_num)"
   ]
  },
  {
   "cell_type": "code",
   "execution_count": 176,
   "metadata": {},
   "outputs": [],
   "source": [
    "flags['BotrightNum'] = flags['Botright'].apply(colour_to_num)"
   ]
  },
  {
   "cell_type": "code",
   "execution_count": 177,
   "metadata": {},
   "outputs": [
    {
     "data": {
      "text/html": [
       "<div>\n",
       "<style scoped>\n",
       "    .dataframe tbody tr th:only-of-type {\n",
       "        vertical-align: middle;\n",
       "    }\n",
       "\n",
       "    .dataframe tbody tr th {\n",
       "        vertical-align: top;\n",
       "    }\n",
       "\n",
       "    .dataframe thead th {\n",
       "        text-align: right;\n",
       "    }\n",
       "</style>\n",
       "<table border=\"1\" class=\"dataframe\">\n",
       "  <thead>\n",
       "    <tr style=\"text-align: right;\">\n",
       "      <th></th>\n",
       "      <th>Name</th>\n",
       "      <th>Landmass</th>\n",
       "      <th>Zone</th>\n",
       "      <th>Area</th>\n",
       "      <th>Population</th>\n",
       "      <th>Language</th>\n",
       "      <th>Religion</th>\n",
       "      <th>Bars</th>\n",
       "      <th>Stripes</th>\n",
       "      <th>Colors</th>\n",
       "      <th>...</th>\n",
       "      <th>Sunstars</th>\n",
       "      <th>Crescent</th>\n",
       "      <th>Triangle</th>\n",
       "      <th>Icon</th>\n",
       "      <th>Animate</th>\n",
       "      <th>Text</th>\n",
       "      <th>Topleft</th>\n",
       "      <th>Botright</th>\n",
       "      <th>TopleftNum</th>\n",
       "      <th>BotrightNum</th>\n",
       "    </tr>\n",
       "  </thead>\n",
       "  <tbody>\n",
       "    <tr>\n",
       "      <th>0</th>\n",
       "      <td>Afghanistan</td>\n",
       "      <td>5</td>\n",
       "      <td>1</td>\n",
       "      <td>648</td>\n",
       "      <td>16</td>\n",
       "      <td>10</td>\n",
       "      <td>2</td>\n",
       "      <td>0</td>\n",
       "      <td>3</td>\n",
       "      <td>5</td>\n",
       "      <td>...</td>\n",
       "      <td>1</td>\n",
       "      <td>0</td>\n",
       "      <td>0</td>\n",
       "      <td>1</td>\n",
       "      <td>0</td>\n",
       "      <td>0</td>\n",
       "      <td>black</td>\n",
       "      <td>green</td>\n",
       "      <td>0</td>\n",
       "      <td>3</td>\n",
       "    </tr>\n",
       "    <tr>\n",
       "      <th>1</th>\n",
       "      <td>Albania</td>\n",
       "      <td>3</td>\n",
       "      <td>1</td>\n",
       "      <td>29</td>\n",
       "      <td>3</td>\n",
       "      <td>6</td>\n",
       "      <td>6</td>\n",
       "      <td>0</td>\n",
       "      <td>0</td>\n",
       "      <td>3</td>\n",
       "      <td>...</td>\n",
       "      <td>1</td>\n",
       "      <td>0</td>\n",
       "      <td>0</td>\n",
       "      <td>0</td>\n",
       "      <td>1</td>\n",
       "      <td>0</td>\n",
       "      <td>red</td>\n",
       "      <td>red</td>\n",
       "      <td>2</td>\n",
       "      <td>2</td>\n",
       "    </tr>\n",
       "    <tr>\n",
       "      <th>2</th>\n",
       "      <td>Algeria</td>\n",
       "      <td>4</td>\n",
       "      <td>1</td>\n",
       "      <td>2388</td>\n",
       "      <td>20</td>\n",
       "      <td>8</td>\n",
       "      <td>2</td>\n",
       "      <td>2</td>\n",
       "      <td>0</td>\n",
       "      <td>3</td>\n",
       "      <td>...</td>\n",
       "      <td>1</td>\n",
       "      <td>1</td>\n",
       "      <td>0</td>\n",
       "      <td>0</td>\n",
       "      <td>0</td>\n",
       "      <td>0</td>\n",
       "      <td>green</td>\n",
       "      <td>white</td>\n",
       "      <td>3</td>\n",
       "      <td>1</td>\n",
       "    </tr>\n",
       "    <tr>\n",
       "      <th>3</th>\n",
       "      <td>American-Samoa</td>\n",
       "      <td>6</td>\n",
       "      <td>3</td>\n",
       "      <td>0</td>\n",
       "      <td>0</td>\n",
       "      <td>1</td>\n",
       "      <td>1</td>\n",
       "      <td>0</td>\n",
       "      <td>0</td>\n",
       "      <td>5</td>\n",
       "      <td>...</td>\n",
       "      <td>0</td>\n",
       "      <td>0</td>\n",
       "      <td>1</td>\n",
       "      <td>1</td>\n",
       "      <td>1</td>\n",
       "      <td>0</td>\n",
       "      <td>blue</td>\n",
       "      <td>red</td>\n",
       "      <td>4</td>\n",
       "      <td>2</td>\n",
       "    </tr>\n",
       "    <tr>\n",
       "      <th>4</th>\n",
       "      <td>Andorra</td>\n",
       "      <td>3</td>\n",
       "      <td>1</td>\n",
       "      <td>0</td>\n",
       "      <td>0</td>\n",
       "      <td>6</td>\n",
       "      <td>0</td>\n",
       "      <td>3</td>\n",
       "      <td>0</td>\n",
       "      <td>3</td>\n",
       "      <td>...</td>\n",
       "      <td>0</td>\n",
       "      <td>0</td>\n",
       "      <td>0</td>\n",
       "      <td>0</td>\n",
       "      <td>0</td>\n",
       "      <td>0</td>\n",
       "      <td>blue</td>\n",
       "      <td>red</td>\n",
       "      <td>4</td>\n",
       "      <td>2</td>\n",
       "    </tr>\n",
       "  </tbody>\n",
       "</table>\n",
       "<p>5 rows × 32 columns</p>\n",
       "</div>"
      ],
      "text/plain": [
       "             Name  Landmass  Zone  Area  Population  Language  Religion  Bars  \\\n",
       "0     Afghanistan         5     1   648          16        10         2     0   \n",
       "1         Albania         3     1    29           3         6         6     0   \n",
       "2         Algeria         4     1  2388          20         8         2     2   \n",
       "3  American-Samoa         6     3     0           0         1         1     0   \n",
       "4         Andorra         3     1     0           0         6         0     3   \n",
       "\n",
       "   Stripes  Colors  ...  Sunstars  Crescent  Triangle  Icon  Animate  Text  \\\n",
       "0        3       5  ...         1         0         0     1        0     0   \n",
       "1        0       3  ...         1         0         0     0        1     0   \n",
       "2        0       3  ...         1         1         0     0        0     0   \n",
       "3        0       5  ...         0         0         1     1        1     0   \n",
       "4        0       3  ...         0         0         0     0        0     0   \n",
       "\n",
       "   Topleft Botright  TopleftNum  BotrightNum  \n",
       "0    black    green           0            3  \n",
       "1      red      red           2            2  \n",
       "2    green    white           3            1  \n",
       "3     blue      red           4            2  \n",
       "4     blue      red           4            2  \n",
       "\n",
       "[5 rows x 32 columns]"
      ]
     },
     "execution_count": 177,
     "metadata": {},
     "output_type": "execute_result"
    }
   ],
   "source": [
    "flags.head()"
   ]
  },
  {
   "cell_type": "code",
   "execution_count": 178,
   "metadata": {},
   "outputs": [
    {
     "data": {
      "text/plain": [
       "array([0, 2, 3, 4, 1, 6, 5], dtype=int64)"
      ]
     },
     "execution_count": 178,
     "metadata": {},
     "output_type": "execute_result"
    }
   ],
   "source": [
    "flags.TopleftNum.unique()"
   ]
  },
  {
   "cell_type": "code",
   "execution_count": 179,
   "metadata": {},
   "outputs": [
    {
     "data": {
      "text/plain": [
       "array([3, 2, 1, 0, 4, 5, 6, 7], dtype=int64)"
      ]
     },
     "execution_count": 179,
     "metadata": {},
     "output_type": "execute_result"
    }
   ],
   "source": [
    "flags.BotrightNum.unique()"
   ]
  },
  {
   "cell_type": "code",
   "execution_count": 180,
   "metadata": {},
   "outputs": [],
   "source": [
    "new_data = flags[[\"Red\", \"Green\", \"Blue\", \"Gold\", \"White\", \"Black\", \"Orange\",\n",
    "            \"Circles\", \"Crosses\",\"Saltires\",\"Quarters\",\"Sunstars\",\n",
    "            \"Crescent\",\"Triangle\", \"TopleftNum\", \"BotrightNum\"]] # added the two new features"
   ]
  },
  {
   "cell_type": "code",
   "execution_count": 181,
   "metadata": {},
   "outputs": [],
   "source": [
    "ntrain_data, ntest_data, ntrain_labels, ntest_labels = train_test_split(new_data, labels, random_state = 1)"
   ]
  },
  {
   "cell_type": "code",
   "execution_count": 182,
   "metadata": {},
   "outputs": [
    {
     "name": "stdout",
     "output_type": "stream",
     "text": [
      "Depth 1: 0.3469387755102041\n",
      "Depth 2: 0.3877551020408163\n",
      "Depth 3: 0.5102040816326531\n",
      "Depth 4: 0.5306122448979592\n",
      "Depth 5: 0.5510204081632653\n",
      "Depth 6: 0.5102040816326531\n",
      "Depth 7: 0.4489795918367347\n",
      "Depth 8: 0.42857142857142855\n",
      "Depth 9: 0.42857142857142855\n",
      "Depth 10: 0.40816326530612246\n",
      "Depth 11: 0.4489795918367347\n",
      "Depth 12: 0.3877551020408163\n",
      "Depth 13: 0.42857142857142855\n",
      "Depth 14: 0.4489795918367347\n",
      "Depth 15: 0.4489795918367347\n",
      "Depth 16: 0.4489795918367347\n",
      "Depth 17: 0.4489795918367347\n",
      "Depth 18: 0.4489795918367347\n",
      "Depth 19: 0.4489795918367347\n",
      "Depth 20: 0.4489795918367347\n"
     ]
    }
   ],
   "source": [
    "for i in tree_depth:\n",
    "    tree = DecisionTreeClassifier(max_depth = i, random_state=1)\n",
    "    tree.fit(ntrain_data, ntrain_labels)\n",
    "    print(\"Depth \" + str(i) + \":\", tree.score(ntest_data, ntest_labels))"
   ]
  },
  {
   "cell_type": "code",
   "execution_count": 183,
   "metadata": {},
   "outputs": [],
   "source": [
    "new_scores = []\n",
    "for i in tree_depth:\n",
    "    tree = DecisionTreeClassifier(max_depth = i, random_state=1)\n",
    "    tree.fit(ntrain_data, ntrain_labels)\n",
    "    new_scores.append(tree.score(ntrain_data, ntrain_labels))\n",
    "    if i == np.max(tree_depth):\n",
    "        new_feat_importances = tree.feature_importances_"
   ]
  },
  {
   "cell_type": "code",
   "execution_count": 184,
   "metadata": {},
   "outputs": [
    {
     "data": {
      "text/plain": [
       "0.9103448275862069"
      ]
     },
     "execution_count": 184,
     "metadata": {},
     "output_type": "execute_result"
    }
   ],
   "source": [
    "second_tree_train_score = np.max(new_scores)\n",
    "second_tree_train_score"
   ]
  },
  {
   "cell_type": "code",
   "execution_count": 185,
   "metadata": {},
   "outputs": [],
   "source": [
    "new_test_scores = []\n",
    "for i in tree_depth:\n",
    "    tree = DecisionTreeClassifier(max_depth = i, random_state=1)\n",
    "    tree.fit(ntrain_data, ntrain_labels)\n",
    "    new_test_scores.append(tree.score(ntest_data, ntest_labels))"
   ]
  },
  {
   "cell_type": "code",
   "execution_count": 186,
   "metadata": {},
   "outputs": [
    {
     "data": {
      "text/plain": [
       "0.5510204081632653"
      ]
     },
     "execution_count": 186,
     "metadata": {},
     "output_type": "execute_result"
    }
   ],
   "source": [
    "second_tree_test_score = np.max(test_scores)\n",
    "second_tree_test_score"
   ]
  },
  {
   "cell_type": "code",
   "execution_count": 187,
   "metadata": {},
   "outputs": [
    {
     "data": {
      "text/plain": [
       "array([0.04215774, 0.08417203, 0.05670203, 0.07300709, 0.0531487 ,\n",
       "       0.04444621, 0.04152616, 0.04258794, 0.03312401, 0.        ,\n",
       "       0.01494107, 0.10429079, 0.00871404, 0.07406103, 0.11224291,\n",
       "       0.21487825])"
      ]
     },
     "execution_count": 187,
     "metadata": {},
     "output_type": "execute_result"
    }
   ],
   "source": [
    "new_feat_importances"
   ]
  },
  {
   "cell_type": "code",
   "execution_count": 188,
   "metadata": {},
   "outputs": [
    {
     "data": {
      "image/png": "[encoded data removed]",
      "text/plain": [
       "<Figure size 432x288 with 1 Axes>"
      ]
     },
     "metadata": {},
     "output_type": "display_data"
    }
   ],
   "source": [
    "sns.barplot(x=new_feat_importances, y=new_data.columns)\n",
    "plt.title('Barplot of relative feature importance for second tree')\n",
    "plt.xlabel('Relative importance')\n",
    "plt.show()"
   ]
  },
  {
   "cell_type": "code",
   "execution_count": 189,
   "metadata": {},
   "outputs": [
    {
     "data": {
      "image/png": "[encoded data removed]",
      "text/plain": [
       "<Figure size 1080x360 with 2 Axes>"
      ]
     },
     "metadata": {},
     "output_type": "display_data"
    }
   ],
   "source": [
    "fig, axes = plt.subplots(2, 1, figsize=(15, 5))\n",
    "plt.suptitle('Model Accuracy', fontsize=14)\n",
    "\n",
    "ax1 = plt.subplot(1, 2, 1)\n",
    "ax1 = sns.lineplot(x=tree_depth, y=new_scores)\n",
    "plt.xlabel('Depth of Tree')\n",
    "plt.ylabel('Tree Score')\n",
    "plt.title('Tree Depth vs Classification Score - training set')\n",
    "\n",
    "ax2 = plt.subplot(1, 2, 2, sharey=ax1)\n",
    "ax2 = sns.lineplot(x=tree_depth, y=new_test_scores)\n",
    "plt.xlabel('Depth of Tree')\n",
    "plt.ylabel('Tree Score')\n",
    "plt.title('Tree Depth vs Classification Score - test_set')\n",
    "\n",
    "plt.show()"
   ]
  },
  {
   "cell_type": "markdown",
   "metadata": {},
   "source": [
    "## Result"
   ]
  },
  {
   "cell_type": "markdown",
   "metadata": {},
   "source": [
    "The maximum training score achieved on the test set is greater than that which was achieved with the first tree (as would be expected).\n",
    "\n",
    "The maximum test score, however, was exactly the same as in the first tree (0.551).\n",
    "\n",
    "Once the tree has overfit the training set, there is still some fluctuation in test set classifier score but nothing significant.\n",
    "\n",
    "The feature importances have changed quite significantly, and the two new features are heavily influencing the classifier - particularly `BotrightNum`."
   ]
  },
  {
   "cell_type": "markdown",
   "metadata": {},
   "source": [
    "# Final iteration"
   ]
  },
  {
   "cell_type": "markdown",
   "metadata": {},
   "source": [
    "## Choosing new features"
   ]
  },
  {
   "cell_type": "markdown",
   "metadata": {},
   "source": [
    "For this training iteration we will use the top five features in terms of feature importance from the last decision tree.\n",
    "\n",
    "We will also add two more features that are bound to improve classification accuracy: `Language` and `Religion`."
   ]
  },
  {
   "cell_type": "markdown",
   "metadata": {},
   "source": [
    "### Function to find n most important features"
   ]
  },
  {
   "cell_type": "code",
   "execution_count": 190,
   "metadata": {},
   "outputs": [],
   "source": [
    "def find_largest(array, features, num_desired):\n",
    "    list_of_nums = list(array)\n",
    "    important_features = []\n",
    "    indices_largest = []\n",
    "    for i in range(len(array)):\n",
    "        important_features.append(np.max(list_of_nums))\n",
    "        list_of_nums.remove(np.max(list_of_nums))\n",
    "        if len(important_features) == num_desired:\n",
    "            break\n",
    "    new_list = list(array)\n",
    "    for feature in important_features:\n",
    "        indices_largest.append(new_list.index(feature))\n",
    "    return features[indices_largest]    "
   ]
  },
  {
   "cell_type": "code",
   "execution_count": 191,
   "metadata": {},
   "outputs": [
    {
     "name": "stdout",
     "output_type": "stream",
     "text": [
      "Index(['BotrightNum', 'TopleftNum', 'Sunstars', 'Green', 'Triangle'], dtype='object')\n"
     ]
    }
   ],
   "source": [
    "# the five most important features from the previous classifier\n",
    "print(find_largest(new_feat_importances, new_data.columns, 5))"
   ]
  },
  {
   "cell_type": "code",
   "execution_count": 203,
   "metadata": {},
   "outputs": [],
   "source": [
    "# the final classifier's features will be the previous five most important features plus two more:\n",
    "final_features = flags[[\"BotrightNum\", \"TopleftNum\", \"Sunstars\", \"Green\", \"Triangle\", \"Language\", \"Religion\"]]"
   ]
  },
  {
   "cell_type": "code",
   "execution_count": 204,
   "metadata": {},
   "outputs": [],
   "source": [
    "ftrain_data, ftest_data, ftrain_labels, ftest_labels = train_test_split(final_features, labels, random_state=1)"
   ]
  },
  {
   "cell_type": "code",
   "execution_count": 205,
   "metadata": {},
   "outputs": [
    {
     "name": "stdout",
     "output_type": "stream",
     "text": [
      "Depth 1: 0.3877551020408163\n",
      "Depth 2: 0.4897959183673469\n",
      "Depth 3: 0.6122448979591837\n",
      "Depth 4: 0.6326530612244898\n",
      "Depth 5: 0.6122448979591837\n",
      "Depth 6: 0.6326530612244898\n",
      "Depth 7: 0.6326530612244898\n",
      "Depth 8: 0.6122448979591837\n",
      "Depth 9: 0.6326530612244898\n",
      "Depth 10: 0.5918367346938775\n",
      "Depth 11: 0.5918367346938775\n",
      "Depth 12: 0.5918367346938775\n",
      "Depth 13: 0.5918367346938775\n",
      "Depth 14: 0.5918367346938775\n",
      "Depth 15: 0.5918367346938775\n",
      "Depth 16: 0.5918367346938775\n",
      "Depth 17: 0.5918367346938775\n",
      "Depth 18: 0.5918367346938775\n",
      "Depth 19: 0.5918367346938775\n",
      "Depth 20: 0.5918367346938775\n"
     ]
    }
   ],
   "source": [
    "for i in tree_depth:\n",
    "    tree = DecisionTreeClassifier(max_depth = i, random_state=1)\n",
    "    tree.fit(ftrain_data, ftrain_labels)\n",
    "    print(\"Depth \" + str(i) + \":\", tree.score(ftest_data, ftest_labels))"
   ]
  },
  {
   "cell_type": "code",
   "execution_count": 206,
   "metadata": {},
   "outputs": [],
   "source": [
    "final_scores = []\n",
    "for i in tree_depth:\n",
    "    tree = DecisionTreeClassifier(max_depth = i, random_state=1)\n",
    "    tree.fit(ftrain_data, ftrain_labels)\n",
    "    final_scores.append(tree.score(ftrain_data, ftrain_labels))\n",
    "    if i == np.max(tree_depth):\n",
    "        final_feat_importances = tree.feature_importances_"
   ]
  },
  {
   "cell_type": "code",
   "execution_count": 207,
   "metadata": {},
   "outputs": [
    {
     "data": {
      "text/plain": [
       "0.9655172413793104"
      ]
     },
     "execution_count": 207,
     "metadata": {},
     "output_type": "execute_result"
    }
   ],
   "source": [
    "third_tree_train_score = np.max(final_scores)\n",
    "third_tree_train_score"
   ]
  },
  {
   "cell_type": "code",
   "execution_count": 208,
   "metadata": {},
   "outputs": [],
   "source": [
    "final_test_scores = []\n",
    "for i in tree_depth:\n",
    "    tree = DecisionTreeClassifier(max_depth = i, random_state=1)\n",
    "    tree.fit(ftrain_data, ftrain_labels)\n",
    "    final_test_scores.append(tree.score(ftest_data, ftest_labels))"
   ]
  },
  {
   "cell_type": "code",
   "execution_count": 209,
   "metadata": {},
   "outputs": [
    {
     "data": {
      "text/plain": [
       "0.6326530612244898"
      ]
     },
     "execution_count": 209,
     "metadata": {},
     "output_type": "execute_result"
    }
   ],
   "source": [
    "third_tree_test_score = np.max(final_test_scores)\n",
    "third_tree_test_score"
   ]
  },
  {
   "cell_type": "code",
   "execution_count": 210,
   "metadata": {},
   "outputs": [
    {
     "data": {
      "text/plain": [
       "array([0.07424154, 0.10441998, 0.13364509, 0.04924074, 0.06192073,\n",
       "       0.24354802, 0.3329839 ])"
      ]
     },
     "execution_count": 210,
     "metadata": {},
     "output_type": "execute_result"
    }
   ],
   "source": [
    "final_feat_importances"
   ]
  },
  {
   "cell_type": "code",
   "execution_count": 211,
   "metadata": {},
   "outputs": [
    {
     "data": {
      "image/png": "[encoded data removed]",
      "text/plain": [
       "<Figure size 432x288 with 1 Axes>"
      ]
     },
     "metadata": {},
     "output_type": "display_data"
    }
   ],
   "source": [
    "sns.barplot(x=final_feat_importances, y=final_features.columns)\n",
    "plt.title('Relative feature importance of the final classifier')\n",
    "plt.xlabel('Relative importance')\n",
    "plt.show()"
   ]
  },
  {
   "cell_type": "code",
   "execution_count": 212,
   "metadata": {},
   "outputs": [
    {
     "data": {
      "image/png": "[encoded data removed]",
      "text/plain": [
       "<Figure size 1080x360 with 2 Axes>"
      ]
     },
     "metadata": {},
     "output_type": "display_data"
    }
   ],
   "source": [
    "fig, axes = plt.subplots(2, 1, figsize=(15, 5))\n",
    "plt.suptitle('Model Accuracy', fontsize=14)\n",
    "\n",
    "ax1 = plt.subplot(1, 2, 1)\n",
    "ax1 = sns.lineplot(x=tree_depth, y=final_scores)\n",
    "plt.xlabel('Depth of Tree')\n",
    "plt.ylabel('Tree Score')\n",
    "plt.title('Tree Depth vs Classification Score - training set')\n",
    "\n",
    "ax2 = plt.subplot(1, 2, 2, sharey=ax1)\n",
    "ax2 = sns.lineplot(x=tree_depth, y=final_test_scores)\n",
    "plt.xlabel('Depth of Tree')\n",
    "plt.ylabel('Tree Score')\n",
    "plt.title('Tree Depth vs Classification Score - test_set')\n",
    "\n",
    "plt.show()"
   ]
  },
  {
   "cell_type": "markdown",
   "metadata": {},
   "source": [
    "# Final results"
   ]
  },
  {
   "cell_type": "markdown",
   "metadata": {},
   "source": [
    "The final classifier uses only 7 features, which is half the number of features of the first classifier, and improves the classification accuracy from a maximum of 55% to a maximum of 63%.\n",
    "\n",
    "The average classifier score is shown below:"
   ]
  },
  {
   "cell_type": "code",
   "execution_count": 215,
   "metadata": {},
   "outputs": [
    {
     "name": "stdout",
     "output_type": "stream",
     "text": [
      "First tree average score: \n",
      "Second tree average score: \n",
      "Third tree average score: \n"
     ]
    }
   ],
   "source": [
    "first_tree_mean = round(np.mean(test_scores),2)\n",
    "second_tree_mean = round(np.mean(new_test_scores),2)\n",
    "third_tree_mean = round(np.mean(final_test_scores),2)\n",
    "print(\"First tree average score: \".format(first_tree_mean))\n",
    "print(\"Second tree average score: \".format(second_tree_mean))\n",
    "print(\"Third tree average score: \".format(third_tree_mean))"
   ]
  }
 ],
 "metadata": {
  "kernelspec": {
   "display_name": "Python 3",
   "language": "python",
   "name": "python3"
  },
  "language_info": {
   "codemirror_mode": {
    "name": "ipython",
    "version": 3
   },
   "file_extension": ".py",
   "mimetype": "text/x-python",
   "name": "python",
   "nbconvert_exporter": "python",
   "pygments_lexer": "ipython3",
   "version": "3.7.4"
  },
  "toc": {
   "base_numbering": 1,
   "nav_menu": {},
   "number_sections": true,
   "sideBar": true,
   "skip_h1_title": false,
   "title_cell": "Table of Contents",
   "title_sidebar": "Contents",
   "toc_cell": true,
   "toc_position": {},
   "toc_section_display": true,
   "toc_window_display": true
  },
  "varInspector": {
   "cols": {
    "lenName": 16,
    "lenType": 16,
    "lenVar": 40
   },
   "kernels_config": {
    "python": {
     "delete_cmd_postfix": "",
     "delete_cmd_prefix": "del ",
     "library": "var_list.py",
     "varRefreshCmd": "print(var_dic_list())"
    },
    "r": {
     "delete_cmd_postfix": ") ",
     "delete_cmd_prefix": "rm(",
     "library": "var_list.r",
     "varRefreshCmd": "cat(var_dic_list()) "
    }
   },
   "types_to_exclude": [
    "module",
    "function",
    "builtin_function_or_method",
    "instance",
    "_Feature"
   ],
   "window_display": false
  }
 },
 "nbformat": 4,
 "nbformat_minor": 4
}
